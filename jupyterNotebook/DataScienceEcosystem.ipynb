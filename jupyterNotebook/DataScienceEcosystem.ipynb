{
 "cells": [
  {
   "cell_type": "markdown",
   "id": "25db03c6",
   "metadata": {},
   "source": [
    "# Data Science Tools and Ecosystem"
   ]
  },
  {
   "cell_type": "markdown",
   "id": "2ac4a90a",
   "metadata": {},
   "source": [
    "In this notebook, Data Science Tools and Ecosystem are summarized."
   ]
  },
  {
   "cell_type": "markdown",
   "id": "840b7b66",
   "metadata": {},
   "source": [
    "#### **Objectives:**\n",
    "- **Popular Languages**\n",
    "- **Libraries of Python**\n",
    "- **Data Science Tools**\n",
    "- **Python Arithmetic Examples**"
   ]
  },
  {
   "cell_type": "markdown",
   "id": "635c1487",
   "metadata": {},
   "source": [
    "Some of the popular languages that Data Scientists use are:\n",
    "1. Python\n",
    "2. SQL\n",
    "3. R"
   ]
  },
  {
   "cell_type": "markdown",
   "id": "d5a13798",
   "metadata": {},
   "source": [
    "Some of the commonly used libraries used by Data Scientists include:\n",
    "1. pandas\n",
    "2. matplotlib\n",
    "3. numpy"
   ]
  },
  {
   "cell_type": "markdown",
   "id": "3c0b65a7",
   "metadata": {},
   "source": [
    "| **Data Science Tools** |\n",
    "|------------------------|\n",
    "| Jupyter Notebook       |\n",
    "| RStudio                |\n",
    "| Apache Zeppelin        |"
   ]
  },
  {
   "cell_type": "markdown",
   "id": "3daca9bb",
   "metadata": {},
   "source": [
    "### Below are a few examples of evaluating arithmetic expressions in Python.\n",
    "\n",
    "5 + 3     \n",
    "10 - 4    "
   ]
  },
  {
   "cell_type": "code",
   "execution_count": null,
   "id": "2200e38d",
   "metadata": {},
   "outputs": [],
   "source": [
    "print((3*4)+5)  # This a simple arithmetic expression to mutiply then add integers"
   ]
  },
  {
   "cell_type": "code",
   "execution_count": null,
   "id": "e76893cd",
   "metadata": {},
   "outputs": [],
   "source": [
    "print(200 / 60)     #This will convert 200 minutes to hours by dividing by 60"
   ]
  },
  {
   "cell_type": "markdown",
   "id": "cddfcb49",
   "metadata": {},
   "source": [
    "## Author\n",
    "Syed Sultan Ahmed"
   ]
  }
 ],
 "metadata": {
  "language_info": {
   "name": "python"
  }
 },
 "nbformat": 4,
 "nbformat_minor": 5
}
