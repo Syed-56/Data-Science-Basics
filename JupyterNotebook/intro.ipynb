# intro
print('hello world')
## graph

# Import libraries
import pandas as pd
import matplotlib.pyplot as plt

data = {
    'Month': ['Jan', 'Feb', 'Mar', 'Apr', 'May'],
    'Sales': [250, 300, 400, 350, 500]
}
df = pd.DataFrame(data)

# Display the DataFrame
print("Sales Data:")
print(df)

plt.figure(figsize=(8, 5))
plt.plot(df['Month'], df['Sales'], marker='o', color='skyblue', linewidth=2)
plt.title('Monthly Sales Trend')
plt.xlabel('Month')
plt.ylabel('Sales ($)')
plt.grid(True)
plt.tight_layout()

# Show the plot
plt.show()
