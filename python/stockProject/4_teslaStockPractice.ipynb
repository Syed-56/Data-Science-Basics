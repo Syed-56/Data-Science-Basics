{
 "cells": [
  {
   "cell_type": "code",
   "execution_count": null,
   "id": "35508e09",
   "metadata": {},
   "outputs": [],
   "source": [
    "import pandas as pd\n",
    "import requests\n",
    "from bs4 import BeautifulSoup\n",
    "from bs4 import XMLParsedAsHTMLWarning\n",
    "import warnings\n",
    "\n",
    "warnings.filterwarnings(\"ignore\", category=XMLParsedAsHTMLWarning)\n",
    "import plotly.graph_objects as go\n",
    "from plotly.subplots import make_subplots\n",
    "import plotly.io as pio\n",
    "pio.renderers.default = \"iframe\""
   ]
  },
  {
   "cell_type": "code",
   "execution_count": null,
   "id": "f6c2795d",
   "metadata": {},
   "outputs": [],
   "source": [
    "def make_graph(stock_data, revenue_data, stock):\n",
    "    fig = make_subplots(rows=2, cols=1, shared_xaxes=True, subplot_titles=(\"Historical Share Price\", \"Historical Revenue\"), vertical_spacing = .3)\n",
    "    stock_data_specific = stock_data[stock_data.Date <= '2021-06-14']\n",
    "    revenue_data_specific = revenue_data[revenue_data.Date <= '2021-04-30']\n",
    "    fig.add_trace(go.Scatter(x=pd.to_datetime(stock_data_specific.Date, infer_datetime_format=True), y=stock_data_specific.Close.astype(\"float\"), name=\"Share Price\"), row=1, col=1)\n",
    "    fig.add_trace(go.Scatter(x=pd.to_datetime(revenue_data_specific.Date, infer_datetime_format=True), y=revenue_data_specific.Revenue.astype(\"float\"), name=\"Revenue\"), row=2, col=1)\n",
    "    fig.update_xaxes(title_text=\"Date\", row=1, col=1)\n",
    "    fig.update_xaxes(title_text=\"Date\", row=2, col=1)\n",
    "    fig.update_yaxes(title_text=\"Price ($US)\", row=1, col=1)\n",
    "    fig.update_yaxes(title_text=\"Revenue ($US Millions)\", row=2, col=1)\n",
    "    fig.update_layout(showlegend=False,\n",
    "    height=900,\n",
    "    title=stock,\n",
    "    xaxis_rangeslider_visible=True)\n",
    "    fig.show()\n",
    "    from IPython.display import display, HTML\n",
    "    fig_html = fig.to_html()\n",
    "    display(HTML(fig_html))"
   ]
  },
  {
   "cell_type": "code",
   "execution_count": null,
   "id": "0d391ad1",
   "metadata": {},
   "outputs": [],
   "source": [
    "import yfinance as yf\n",
    "stock = yf.Ticker(\"TSLA\")\n",
    "tesla_data = stock.history(period=\"max\")\n",
    "tesla_data.reset_index(inplace = True)\n",
    "print(tesla_data.head())"
   ]
  },
  {
   "cell_type": "code",
   "execution_count": null,
   "id": "be94b0e3",
   "metadata": {},
   "outputs": [],
   "source": [
    "url = \" https://cf-courses-data.s3.us.cloud-object-storage.appdomain.cloud/IBMDeveloperSkillsNetwork-PY0220EN-SkillsNetwork/labs/project/revenue.htm\"\n",
    "html_doc = requests.get(url).text\n",
    "\n",
    "soup = BeautifulSoup(html_doc, \"html.parser\")\n",
    "\n",
    "tesla_dataFrame = pd.DataFrame(columns=[\"Date\", \"Revenue\"])\n",
    "\n",
    "table = soup.find_all('tbody')[1]  # ✅ correct usage\n",
    "\n",
    "for row in table.find_all('tr'):\n",
    "    cols = row.find_all('td')\n",
    "    date = cols[0].text.strip()\n",
    "    revenue = cols[1].text.strip()\n",
    "\n",
    "    tesla_dataFrame = pd.concat([\n",
    "        tesla_dataFrame,\n",
    "        pd.DataFrame({\"Date\": [date], \"Revenue\": [revenue]})\n",
    "    ], ignore_index=True)\n",
    "\n",
    "# Clean and filter\n",
    "tesla_dataFrame[\"Revenue\"] = tesla_dataFrame[\"Revenue\"].str.replace(',|\\\\$', '', regex=True)\n",
    "tesla_dataFrame.dropna(inplace=True)\n",
    "tesla_dataFrame = tesla_dataFrame[tesla_dataFrame[\"Revenue\"] != \"\"]\n",
    "\n",
    "print(tesla_dataFrame.head())\n"
   ]
  },
  {
   "cell_type": "code",
   "execution_count": null,
   "id": "33744d7d",
   "metadata": {},
   "outputs": [],
   "source": [
    "make_graph(tesla_data,tesla_dataFrame, \"Tesla\")"
   ]
  }
 ],
 "metadata": {
  "kernelspec": {
   "display_name": "base",
   "language": "python",
   "name": "python3"
  },
  "language_info": {
   "codemirror_mode": {
    "name": "ipython",
    "version": 3
   },
   "file_extension": ".py",
   "mimetype": "text/x-python",
   "name": "python",
   "nbconvert_exporter": "python",
   "pygments_lexer": "ipython3",
   "version": "3.13.5"
  }
 },
 "nbformat": 4,
 "nbformat_minor": 5
}
