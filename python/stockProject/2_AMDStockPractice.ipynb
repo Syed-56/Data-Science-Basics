{
 "cells": [
  {
   "cell_type": "code",
   "execution_count": 6,
   "id": "29d3a001",
   "metadata": {},
   "outputs": [],
   "source": [
    "import pandas as pd\n",
    "import yfinance as yf\n",
    "import json"
   ]
  },
  {
   "cell_type": "markdown",
   "id": "97db9fca",
   "metadata": {},
   "source": [
    "Used this command \"curl -o amd.json https://cf-courses-data.s3.us.cloud-object-storage.appdomain.cloud/IBMDeveloperSkillsNetwork-PY0220EN-SkillsNetwork/data/amd.json\" to download the amd stock file in json\""
   ]
  },
  {
   "cell_type": "code",
   "execution_count": null,
   "id": "2f6196a2",
   "metadata": {},
   "outputs": [],
   "source": [
    "with open('amd.json') as json_file:\n",
    "    amd_info = json.load(json_file)\n",
    "    print(\"Type:\", type(amd_info))\n",
    "amd_info"
   ]
  },
  {
   "cell_type": "markdown",
   "id": "46eb1211",
   "metadata": {},
   "source": [
    "The above mentioned code opens amd.json and reads json data into python object as dictionaries"
   ]
  },
  {
   "cell_type": "code",
   "execution_count": 3,
   "id": "fd2fc5f2",
   "metadata": {},
   "outputs": [
    {
     "name": "stdout",
     "output_type": "stream",
     "text": [
      "United States\n",
      "Technology\n"
     ]
    }
   ],
   "source": [
    "print(amd_info['country'])\n",
    "print(amd_info['sector'])"
   ]
  },
  {
   "cell_type": "code",
   "execution_count": 7,
   "id": "4bdbcebc",
   "metadata": {},
   "outputs": [
    {
     "name": "stdout",
     "output_type": "stream",
     "text": [
      "                           Open      High       Low     Close  Volume  \\\n",
      "Date                                                                    \n",
      "1980-03-17 00:00:00-05:00   0.0  3.302083  3.125000  3.145833  219600   \n",
      "1980-03-18 00:00:00-05:00   0.0  3.125000  2.937500  3.031250  727200   \n",
      "1980-03-19 00:00:00-05:00   0.0  3.083333  3.020833  3.041667  295200   \n",
      "1980-03-20 00:00:00-05:00   0.0  3.062500  3.010417  3.010417  159600   \n",
      "1980-03-21 00:00:00-05:00   0.0  3.020833  2.906250  2.916667  130800   \n",
      "\n",
      "                           Dividends  Stock Splits  \n",
      "Date                                                \n",
      "1980-03-17 00:00:00-05:00        0.0           0.0  \n",
      "1980-03-18 00:00:00-05:00        0.0           0.0  \n",
      "1980-03-19 00:00:00-05:00        0.0           0.0  \n",
      "1980-03-20 00:00:00-05:00        0.0           0.0  \n",
      "1980-03-21 00:00:00-05:00        0.0           0.0  \n"
     ]
    }
   ],
   "source": [
    "amd = yf.Ticker(\"AMD\")\n",
    "amd_stock_price = amd.history(period=\"max\")\n",
    "print(amd_stock_price.head())   #head prints top 5 rows"
   ]
  },
  {
   "cell_type": "code",
   "execution_count": null,
   "id": "526e79b9",
   "metadata": {},
   "outputs": [],
   "source": [
    "#plotting\n",
    "amd_stock_price.reset_index(inplace=True)\n",
    "amd_stock_price.plot(x=\"Date\", y=\"Open\")"
   ]
  }
 ],
 "metadata": {
  "kernelspec": {
   "display_name": "Python 3",
   "language": "python",
   "name": "python3"
  },
  "language_info": {
   "codemirror_mode": {
    "name": "ipython",
    "version": 3
   },
   "file_extension": ".py",
   "mimetype": "text/x-python",
   "name": "python",
   "nbconvert_exporter": "python",
   "pygments_lexer": "ipython3",
   "version": "3.13.1"
  }
 },
 "nbformat": 4,
 "nbformat_minor": 5
}
